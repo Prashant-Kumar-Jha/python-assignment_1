{
 "cells": [
  {
   "cell_type": "code",
   "execution_count": 2,
   "metadata": {},
   "outputs": [],
   "source": [
    " Q1 -  What are the differences between operators and values in the following?\n",
    "*\n",
    "'hello'\n",
    "-87.8\n",
    "-\n",
    "/\n",
    "+\n",
    "6\n"
   ]
  },
  {
   "cell_type": "code",
   "execution_count": null,
   "metadata": {},
   "outputs": [],
   "source": [
    " ans-1  Operators -  in general are used to perform operations on values and variables in Python.\n",
    "    \n",
    "        values    -  A value is one of the most basic things in any program works with. A value\n",
    "                     may be characters i.e. 'Hello, World! ' or a number like 1,2.2 ,3.5 etc. \n",
    "                     Values belong to different types: 1 is an integer, 2 is a float and 'Hello, World! \n",
    "                    ' is a string etc.\n",
    "           \n",
    "           *       -         (Multiplication) Python Arithmetic Operators\n",
    "        'hello'    -         'hello' is string values\n",
    "        -87.8      -          Neagative floting data type and negative values\n",
    "           -       -          (Subtract) Python Arithmetic Operators\n",
    "           /       -          (Divide) Python Arithmetic Operators\n",
    "           +       -          (Sum) Python Arithmetic Operators\n",
    "           6       -           integer data type values"
   ]
  },
  {
   "cell_type": "code",
   "execution_count": null,
   "metadata": {},
   "outputs": [],
   "source": [
    " Q2 - 2. What is the difference between string and variable?\n",
    "         spam\n",
    "        'spam'\n",
    "        \n",
    "ans2 -   A Variable is a store of information, and a String is a type of information you would store in a Variable.\n",
    "         like as\n",
    "         spam = 'spam'\n",
    "         Here spam is a variable and 'spam' is a string.\n",
    " "
   ]
  },
  {
   "cell_type": "code",
   "execution_count": null,
   "metadata": {},
   "outputs": [],
   "source": [
    "Q3  - 3. Describe three different data forms.\n",
    "\n",
    "ans-3    int() -   Integer data type takes only numerical value.\n",
    "         float() - Float data type store  floating-point numbers with up to 17 significant digits.\n",
    "         String()- A string in Python is a sequence of characters. It is a derived data type.\n",
    "                    Strings are immutable. This means that once defined, they cannot be changed.\n"
   ]
  },
  {
   "cell_type": "code",
   "execution_count": null,
   "metadata": {},
   "outputs": [],
   "source": [
    "Q4  -4. What makes up an expression? What are the functions of all expressions?\n",
    "      \n",
    "ans-4  An expression is a combination of values and operators.\n",
    "       All expressions evaluate (that is, reduce) to a single value."
   ]
  },
  {
   "cell_type": "code",
   "execution_count": null,
   "metadata": {},
   "outputs": [],
   "source": [
    "Q5 - 5. In this chapter, assignment statements such as spam = 10 were added. \n",
    "        What's the difference between a declaration and an expression?\n",
    "\n",
    "ans -   An expression evaluates to a single value. A statement does not."
   ]
  },
  {
   "cell_type": "code",
   "execution_count": null,
   "metadata": {},
   "outputs": [],
   "source": [
    "Q6 - 6. After running the following code, what does the variable bacon contain?\n",
    "      bacon = 22\n",
    "       bacon + 1\n",
    "\n",
    "ans-    The bacon variable is set to 22. The bacon + 1 expression does not reassign the value in bacon\n",
    "         (that would need an assignment statement: bacon = bacon + 1).     \n"
   ]
  },
  {
   "cell_type": "code",
   "execution_count": null,
   "metadata": {},
   "outputs": [],
   "source": [
    "Q7 -7. What should the values of the following two terms be?\n",
    "\n",
    "      'spam' + 'spamspam'\n",
    "      'spam' * 3\n",
    "ans-   'spamspamspam'\n",
    "       'spamspamspam'\n",
    "        Both expressions evaluate to the string 'spamspamspam'."
   ]
  },
  {
   "cell_type": "code",
   "execution_count": 4,
   "metadata": {},
   "outputs": [
    {
     "data": {
      "text/plain": [
       "'spamspamspam'"
      ]
     },
     "execution_count": 4,
     "metadata": {},
     "output_type": "execute_result"
    }
   ],
   "source": [
    "#eg\n",
    "'spam'+'spamspam'"
   ]
  },
  {
   "cell_type": "code",
   "execution_count": 5,
   "metadata": {},
   "outputs": [
    {
     "data": {
      "text/plain": [
       "'spamspamspam'"
      ]
     },
     "execution_count": 5,
     "metadata": {},
     "output_type": "execute_result"
    }
   ],
   "source": [
    "'spam'*3"
   ]
  },
  {
   "cell_type": "code",
   "execution_count": null,
   "metadata": {},
   "outputs": [],
   "source": [
    "Q8 - 8. Why is it that eggs is a true variable name but 100 is not?\n",
    "\n",
    "ans - Variable names cannot begin with a number. ... The int(), float(),\n",
    "     and str() functions will evaluate to the integer, floating-point number,\n",
    "     and string versions of the value passed to them."
   ]
  },
  {
   "cell_type": "code",
   "execution_count": null,
   "metadata": {},
   "outputs": [],
   "source": [
    "Q9 -9. Which of the following three functions may be used to convert a value to an integer,\n",
    "        a floating-point number, or a string?\n",
    "\n",
    "ans-  int(), float(), str()"
   ]
  },
  {
   "cell_type": "code",
   "execution_count": 8,
   "metadata": {},
   "outputs": [
    {
     "name": "stdout",
     "output_type": "stream",
     "text": [
      "enter a integer 45\n",
      "enter a float 7.5\n",
      "enter a string prashant\n"
     ]
    }
   ],
   "source": [
    "num = int(input(\"enter a integer \"))\n",
    "num2= float(input(\"enter a float \"))\n",
    "name = str(input(\"enter a string \"))"
   ]
  },
  {
   "cell_type": "code",
   "execution_count": null,
   "metadata": {},
   "outputs": [],
   "source": [
    "Q10 -10. What is the error caused by this expression? What would you do about it?\n",
    "\n",
    "    'I have eaten ' + 99 + ' burritos.'\n",
    "\n",
    "ans -10.The expression causes an error because 99 is an integer, and only strings can be concatenated to other strings with the + operator.\n",
    "     The correct way is I have eaten ' + str(99) + ' burritos.'."
   ]
  },
  {
   "cell_type": "code",
   "execution_count": 6,
   "metadata": {
    "scrolled": true
   },
   "outputs": [
    {
     "name": "stdout",
     "output_type": "stream",
     "text": [
      "I have eaten ' + str(99) + ' burritos.\n"
     ]
    }
   ],
   "source": [
    "s=(\"I have eaten ' + str(99) + ' burritos.\")\n",
    "print(s)"
   ]
  },
  {
   "cell_type": "code",
   "execution_count": null,
   "metadata": {},
   "outputs": [],
   "source": []
  }
 ],
 "metadata": {
  "kernelspec": {
   "display_name": "Python 3",
   "language": "python",
   "name": "python3"
  },
  "language_info": {
   "codemirror_mode": {
    "name": "ipython",
    "version": 3
   },
   "file_extension": ".py",
   "mimetype": "text/x-python",
   "name": "python",
   "nbconvert_exporter": "python",
   "pygments_lexer": "ipython3",
   "version": "3.8.5"
  }
 },
 "nbformat": 4,
 "nbformat_minor": 4
}
